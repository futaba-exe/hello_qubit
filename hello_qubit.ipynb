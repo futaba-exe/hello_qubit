{
 "cells": [
  {
   "cell_type": "markdown",
   "metadata": {},
   "source": [
    "# Hello Qubit using the cirq library\n",
    "In this tutorial you will learn how to make the hello world equivalent in the land of quantum computing. I will explain some basic concepts of quantum mechanics as well and how this applies to computer science. You will learn how to program a basic circuit in cirq using the principles that we will go over beforehand and then use the quantum simulator in cirq to get an output."
   ]
  },
  {
   "cell_type": "markdown",
   "metadata": {},
   "source": [
    "### What is a qubit?\n",
    "A qubit is a quantum bit. As we already know, in classical computers data is handled in bits, and we know that a bit can be either 0 or 1. Classical logic is built on this principle of boolean and is how regular computers function.\n",
    "\n",
    "In classical logic gates, information is lost as data is passed through. For example, an AND gate with two inputs could return 0, however there is no possible way of telling what the two inputs were. We can therefore say that a property of these gates is that the computation is non-reversible.\n",
    "\n",
    "In quantum mechanics, only unitary operations are allowed, if only unitary operations are used this means that the computation is reversible. This is clearly a contridiction with the properties of classical logic gates which we have just discussed therefore quantum computers must use its own set of logic gates which can create results not possible in a classical system.\n",
    "\n"
   ]
  },
  {
   "cell_type": "markdown",
   "metadata": {},
   "source": [
    "### Quantum gates\n",
    "So, we know that quantum computers can't use traditional logic gates for computation but, what do they use instead? The answer is quantum gates. As mentioned above, quantum computers must use their own set of logic gates in order to comply with quantum mechanics.\n",
    "\n",
    "In this notebook you will be introduced to two very important quantum gates. They are the Hadamard gate (H gate) and the Controlled NOT gate (CNOT). These two gates have very important effects on the qubits they are applied to and are a fundamental part of quantum computation.\n",
    "\n",
    "The Hadamard gate, when applied to a qubit puts the qubit into a state of superposition. In this state, we have no way of knowing the value of the qubit without observation. Whilst we have not observed it we can say that the qubit is 1 and 0 at the same time. This a unique quantum property that is not found in classical bits. The qubit is continually in this superposition until we observe it, at which point, its wave function collapses into either a 1 or a 0, with a 50% probability (theoretically).\n",
    "\n",
    "A Controlled NOT gate is much similar to a classical NOT, however, has a control bit (in this case qubit). We have one qubit as the control and the other which the gate will actually be applied to. If the control qubit is 1 then the NOT gate acticates and the second qubit is flipped, if the control bit is 0 then the NOT gate is not activated and the circuit will continue as if it wasn't there. When we use a superposed qubit as the control and have another qubit as an operand, this creates quantum entanglement. This is another fundamental state of quantum computing and will be used throughout quantum programs. When qubits are entangled, it means that their values are not independant from each other. In our case, the value of the second qubit is determined by whether the control qubit activates the NOT gate and therefore, the qubits are entangled."
   ]
  },
  {
   "cell_type": "markdown",
   "metadata": {},
   "source": [
    "### Import cirq library with an SVG circuit converter\n",
    "To start our program we will import the cirq library. There is also a community contributed SVG circuit generator which I will use in order to more clearly visualise our circuit."
   ]
  },
  {
   "cell_type": "code",
   "execution_count": 1,
   "metadata": {},
   "outputs": [],
   "source": [
    "import cirq\n",
    "from cirq.contrib.svg import SVGCircuit"
   ]
  },
  {
   "cell_type": "markdown",
   "metadata": {},
   "source": [
    "### Create our qubits\n",
    "We can now declare our qubits in cirq, we shall call them A and B."
   ]
  },
  {
   "cell_type": "code",
   "execution_count": 7,
   "metadata": {},
   "outputs": [],
   "source": [
    "a = cirq.NamedQubit(\"a\")\n",
    "b = cirq.NamedQubit(\"b\")"
   ]
  },
  {
   "cell_type": "markdown",
   "metadata": {},
   "source": [
    "### Create circuit\n",
    "We now can create our circuit using the qubits we just created. First, we apply a Hadamard gate to A in order to place it in a superposition. Next, we can CNOT B with A as the control, this will entangle both of our qubits as B's output now depends on what A collapses into when it is observed. To complete our circuit, we will measure both A and B. This will make both A and B collapse into either 1 or 0, giving us our result."
   ]
  },
  {
   "cell_type": "code",
   "execution_count": 3,
   "metadata": {},
   "outputs": [],
   "source": [
    "circuit = cirq.Circuit(\n",
    "    cirq.H(a),\n",
    "    cirq.CNOT(a,b),\n",
    "    cirq.measure(a,b)\n",
    ")"
   ]
  },
  {
   "cell_type": "markdown",
   "metadata": {},
   "source": [
    "### Circuit representation\n",
    "We can visualise the circuit we just made using the SVGCircuit function from community contributors in cirq."
   ]
  },
  {
   "cell_type": "code",
   "execution_count": 6,
   "metadata": {},
   "outputs": [
    {
     "data": {
      "image/svg+xml": "<svg xmlns=\"http://www.w3.org/2000/svg\" width=\"280.0\" height=\"100.0\"><line x1=\"30.0\" x2=\"250.0\" y1=\"25.0\" y2=\"25.0\" stroke=\"#1967d2\" stroke-width=\"1\" /><line x1=\"30.0\" x2=\"250.0\" y1=\"75.0\" y2=\"75.0\" stroke=\"#1967d2\" stroke-width=\"1\" /><line x1=\"150.0\" x2=\"150.0\" y1=\"25.0\" y2=\"75.0\" stroke=\"black\" stroke-width=\"3\" /><line x1=\"210.0\" x2=\"210.0\" y1=\"25.0\" y2=\"75.0\" stroke=\"black\" stroke-width=\"3\" /><rect x=\"10.0\" y=\"5.0\" width=\"40\" height=\"40\" stroke=\"black\" fill=\"white\" stroke-width=\"0\" /><text x=\"30.0\" y=\"25.0\" dominant-baseline=\"middle\" text-anchor=\"middle\" font-size=\"14px\" font-family=\"Arial\">a: </text><rect x=\"10.0\" y=\"55.0\" width=\"40\" height=\"40\" stroke=\"black\" fill=\"white\" stroke-width=\"0\" /><text x=\"30.0\" y=\"75.0\" dominant-baseline=\"middle\" text-anchor=\"middle\" font-size=\"14px\" font-family=\"Arial\">b: </text><rect x=\"70.0\" y=\"5.0\" width=\"40\" height=\"40\" stroke=\"black\" fill=\"white\" stroke-width=\"1\" /><text x=\"90.0\" y=\"25.0\" dominant-baseline=\"middle\" text-anchor=\"middle\" font-size=\"18px\" font-family=\"Arial\">H</text><circle cx=\"150.0\" cy=\"25.0\" r=\"10.0\" /><rect x=\"130.0\" y=\"55.0\" width=\"40\" height=\"40\" stroke=\"black\" fill=\"white\" stroke-width=\"1\" /><text x=\"150.0\" y=\"75.0\" dominant-baseline=\"middle\" text-anchor=\"middle\" font-size=\"18px\" font-family=\"Arial\">X</text><rect x=\"190.0\" y=\"5.0\" width=\"40\" height=\"40\" stroke=\"black\" fill=\"white\" stroke-width=\"1\" /><text x=\"210.0\" y=\"25.0\" dominant-baseline=\"middle\" text-anchor=\"middle\" font-size=\"18px\" font-family=\"Arial\">M</text><rect x=\"190.0\" y=\"55.0\" width=\"40\" height=\"40\" stroke=\"black\" fill=\"white\" stroke-width=\"1\" /><text x=\"210.0\" y=\"75.0\" dominant-baseline=\"middle\" text-anchor=\"middle\" font-size=\"18px\" font-family=\"Arial\">M</text></svg>",
      "text/plain": [
       "<cirq.contrib.svg.svg.SVGCircuit at 0x1c3270e7eb0>"
      ]
     },
     "execution_count": 6,
     "metadata": {},
     "output_type": "execute_result"
    }
   ],
   "source": [
    "SVGCircuit(circuit)"
   ]
  },
  {
   "cell_type": "markdown",
   "metadata": {},
   "source": [
    "### Initiate simulation\n",
    "Now that we have our circuit built, we can use cirq's quantum simulator to actually test it."
   ]
  },
  {
   "cell_type": "code",
   "execution_count": 8,
   "metadata": {},
   "outputs": [],
   "source": [
    "simulator = cirq.Simulator()"
   ]
  },
  {
   "cell_type": "markdown",
   "metadata": {},
   "source": [
    "### Run simulation\n",
    "Finally, we can run the simulation of our circuit and observe the result. We pass in the circuit to the function and can also specify a number of repetitions for the simulation to run. Now, the number that this simulation repeats does not necessarily matter in this context as we do not have any quantum noise to worry about, so we can be sure the results will be exactly as expected. If we were running this code on a real quantum computer the physical running environment (such as temperature) creates noise which affects the outcome probability of the superposition."
   ]
  },
  {
   "cell_type": "code",
   "execution_count": 9,
   "metadata": {},
   "outputs": [
    {
     "name": "stdout",
     "output_type": "stream",
     "text": [
      "a,b=00010101000110111101, 00010101000110111101\n"
     ]
    }
   ],
   "source": [
    "result = simulator.run(circuit, repetitions=20)\n",
    "print(result)"
   ]
  },
  {
   "cell_type": "markdown",
   "metadata": {},
   "source": [
    "### Result findings\n",
    "As you can see, the states of A and B at each measurement are identical. This proves that A and B were entangled and that A was in a superposition. If you run the simulation again, you will find that the bits will change however A and B remain identical.\n",
    "\n",
    "Congratulations, you just made a quantum hello world program!"
   ]
  }
 ],
 "metadata": {
  "interpreter": {
   "hash": "38ab28bca8b4819313adeb7c854c0d062861d1c43bdbad895c5d8add01b865a7"
  },
  "kernelspec": {
   "display_name": "Python 3.8.13 ('cirq')",
   "language": "python",
   "name": "python3"
  },
  "language_info": {
   "codemirror_mode": {
    "name": "ipython",
    "version": 3
   },
   "file_extension": ".py",
   "mimetype": "text/x-python",
   "name": "python",
   "nbconvert_exporter": "python",
   "pygments_lexer": "ipython3",
   "version": "3.8.13"
  },
  "orig_nbformat": 4
 },
 "nbformat": 4,
 "nbformat_minor": 2
}
